{
 "cells": [
  {
   "cell_type": "markdown",
   "id": "8a73c31e",
   "metadata": {},
   "source": [
    "### Library Imports"
   ]
  },
  {
   "cell_type": "code",
   "execution_count": 1,
   "id": "51a4e7a9",
   "metadata": {},
   "outputs": [],
   "source": [
    "import pandas as pd\n",
    "import numpy as np\n",
    "import warnings\n",
    "\n",
    "# Visualization\n",
    "import matplotlib.pyplot as plt\n",
    "import seaborn as sns\n",
    "from pprint import pprint\n",
    "%matplotlib inline\n",
    "from matplotlib.lines import Line2D\n",
    "\n",
    "# Modelling\n",
    "from statsmodels.tsa.api import VAR\n",
    "from sklearn.preprocessing import StandardScaler\n",
    "import statsmodels.api as sm\n",
    "from statsmodels.tsa.api import VAR\n",
    "from statsmodels.tsa.base import  datetools\n",
    "\n",
    "\n",
    "warnings.filterwarnings(\"ignore\")"
   ]
  },
  {
   "cell_type": "code",
   "execution_count": 2,
   "id": "1f9bd3b6",
   "metadata": {
    "scrolled": false
   },
   "outputs": [
    {
     "data": {
      "text/html": [
       "<div>\n",
       "<style scoped>\n",
       "    .dataframe tbody tr th:only-of-type {\n",
       "        vertical-align: middle;\n",
       "    }\n",
       "\n",
       "    .dataframe tbody tr th {\n",
       "        vertical-align: top;\n",
       "    }\n",
       "\n",
       "    .dataframe thead th {\n",
       "        text-align: right;\n",
       "    }\n",
       "</style>\n",
       "<table border=\"1\" class=\"dataframe\">\n",
       "  <thead>\n",
       "    <tr style=\"text-align: right;\">\n",
       "      <th></th>\n",
       "      <th>country</th>\n",
       "      <th>year</th>\n",
       "      <th>record</th>\n",
       "      <th>bioTotal</th>\n",
       "      <th>ecoTotal</th>\n",
       "      <th>countryCode</th>\n",
       "      <th>bioFootprint</th>\n",
       "      <th>ecoFootprint</th>\n",
       "    </tr>\n",
       "  </thead>\n",
       "  <tbody>\n",
       "    <tr>\n",
       "      <th>0</th>\n",
       "      <td>Afghanistan</td>\n",
       "      <td>1961-01-01</td>\n",
       "      <td>cropLand</td>\n",
       "      <td>4.990785e+06</td>\n",
       "      <td>1.010593e+07</td>\n",
       "      <td>002</td>\n",
       "      <td>1.252687e+07</td>\n",
       "      <td>2.536589e+07</td>\n",
       "    </tr>\n",
       "    <tr>\n",
       "      <th>1</th>\n",
       "      <td>Afghanistan</td>\n",
       "      <td>1961-01-01</td>\n",
       "      <td>fishingGround</td>\n",
       "      <td>0.000000e+00</td>\n",
       "      <td>9.706928e+02</td>\n",
       "      <td>002</td>\n",
       "      <td>0.000000e+00</td>\n",
       "      <td>3.591563e+02</td>\n",
       "    </tr>\n",
       "    <tr>\n",
       "      <th>2</th>\n",
       "      <td>Afghanistan</td>\n",
       "      <td>1961-01-01</td>\n",
       "      <td>grazingLand</td>\n",
       "      <td>6.212850e+06</td>\n",
       "      <td>1.064433e+07</td>\n",
       "      <td>002</td>\n",
       "      <td>2.857911e+06</td>\n",
       "      <td>4.896393e+06</td>\n",
       "    </tr>\n",
       "    <tr>\n",
       "      <th>3</th>\n",
       "      <td>Afghanistan</td>\n",
       "      <td>1961-01-01</td>\n",
       "      <td>builtupLand</td>\n",
       "      <td>2.722616e+05</td>\n",
       "      <td>5.445231e+05</td>\n",
       "      <td>002</td>\n",
       "      <td>6.833765e+05</td>\n",
       "      <td>1.366753e+06</td>\n",
       "    </tr>\n",
       "    <tr>\n",
       "      <th>4</th>\n",
       "      <td>Afghanistan</td>\n",
       "      <td>1961-01-01</td>\n",
       "      <td>carbon</td>\n",
       "      <td>0.000000e+00</td>\n",
       "      <td>5.596314e+05</td>\n",
       "      <td>002</td>\n",
       "      <td>0.000000e+00</td>\n",
       "      <td>7.051356e+05</td>\n",
       "    </tr>\n",
       "  </tbody>\n",
       "</table>\n",
       "</div>"
      ],
      "text/plain": [
       "       country       year         record      bioTotal      ecoTotal  \\\n",
       "0  Afghanistan 1961-01-01       cropLand  4.990785e+06  1.010593e+07   \n",
       "1  Afghanistan 1961-01-01  fishingGround  0.000000e+00  9.706928e+02   \n",
       "2  Afghanistan 1961-01-01    grazingLand  6.212850e+06  1.064433e+07   \n",
       "3  Afghanistan 1961-01-01    builtupLand  2.722616e+05  5.445231e+05   \n",
       "4  Afghanistan 1961-01-01         carbon  0.000000e+00  5.596314e+05   \n",
       "\n",
       "  countryCode  bioFootprint  ecoFootprint  \n",
       "0         002  1.252687e+07  2.536589e+07  \n",
       "1         002  0.000000e+00  3.591563e+02  \n",
       "2         002  2.857911e+06  4.896393e+06  \n",
       "3         002  6.833765e+05  1.366753e+06  \n",
       "4         002  0.000000e+00  7.051356e+05  "
      ]
     },
     "execution_count": 2,
     "metadata": {},
     "output_type": "execute_result"
    }
   ],
   "source": [
    "filepath = 'Data/Modelling/PredictionDataset.csv'\n",
    "\n",
    "df = pd.read_csv(filepath, encoding = 'unicode_escape')\n",
    "df = df.drop(['Unnamed: 0'], axis = 1)\n",
    "# Dropping countries whose code is NA\n",
    "df = df[df['countryCode'].notna()]\n",
    "\n",
    "# Making the country codes 3 digits long\n",
    "df.countryCode = df[['countryCode']].astype(int)\n",
    "codes = list(df.countryCode)\n",
    "a = [\"%03d\" % x for x in (codes)]\n",
    "df['countryCode'] = a\n",
    "    \n",
    "df['year']= pd.to_datetime(df['year'], format='%Y')\n",
    "df.head()"
   ]
  },
  {
   "cell_type": "markdown",
   "id": "c6a7712c",
   "metadata": {},
   "source": [
    "### Dataset Preparation"
   ]
  },
  {
   "cell_type": "code",
   "execution_count": 4,
   "id": "9ee8babc",
   "metadata": {},
   "outputs": [],
   "source": [
    "def navalues(data):\n",
    "    cols = data.columns\n",
    "    for j in cols:\n",
    "        for i in range(0,len(data)):\n",
    "             if data[j][i].isna():\n",
    "                data[j][i] = data[j][i-1]\n",
    "                \n",
    "def scale(df):\n",
    "    sc = StandardScaler()\n",
    "    df[['bioTotal', 'ecoTotal', 'bioFootprint', 'ecoFootprint']] = sc.fit_transform(df[['bioTotal', 'ecoTotal', 'bioFootprint', 'ecoFootprint']])\n",
    "    return df\n",
    "\n",
    "def reverse_scale(df):\n",
    "    sc = StandardScaler()\n",
    "    return sc.inverse_transform(df)\n",
    "\n",
    "def encode(df):\n",
    "    if 'country' in df.columns.unique():\n",
    "        df = df.drop(['country'], axis=1)\n",
    "    if 'record' in df.columns.unique():\n",
    "        df = pd.get_dummies(df, columns=[\"record\"])\n",
    "    return df\n",
    "\n",
    "def prepare_timeseries(df, record):\n",
    "    return df.set_index(['year'])\n",
    "\n",
    "def prepareCountryDf(df, countryCode):\n",
    "    df = df.loc[df['countryCode'] == countryCode]\n",
    "    return df"
   ]
  },
  {
   "cell_type": "code",
   "execution_count": 5,
   "id": "11ad3b99",
   "metadata": {},
   "outputs": [
    {
     "data": {
      "text/html": [
       "<div>\n",
       "<style scoped>\n",
       "    .dataframe tbody tr th:only-of-type {\n",
       "        vertical-align: middle;\n",
       "    }\n",
       "\n",
       "    .dataframe tbody tr th {\n",
       "        vertical-align: top;\n",
       "    }\n",
       "\n",
       "    .dataframe thead th {\n",
       "        text-align: right;\n",
       "    }\n",
       "</style>\n",
       "<table border=\"1\" class=\"dataframe\">\n",
       "  <thead>\n",
       "    <tr style=\"text-align: right;\">\n",
       "      <th></th>\n",
       "      <th>bioTotal</th>\n",
       "      <th>ecoTotal</th>\n",
       "      <th>countryCode</th>\n",
       "      <th>bioFootprint</th>\n",
       "      <th>ecoFootprint</th>\n",
       "      <th>record_builtupLand</th>\n",
       "      <th>record_carbon</th>\n",
       "      <th>record_cropLand</th>\n",
       "      <th>record_fishingGround</th>\n",
       "      <th>record_forestLand</th>\n",
       "      <th>record_grazingLand</th>\n",
       "    </tr>\n",
       "    <tr>\n",
       "      <th>year</th>\n",
       "      <th></th>\n",
       "      <th></th>\n",
       "      <th></th>\n",
       "      <th></th>\n",
       "      <th></th>\n",
       "      <th></th>\n",
       "      <th></th>\n",
       "      <th></th>\n",
       "      <th></th>\n",
       "      <th></th>\n",
       "      <th></th>\n",
       "    </tr>\n",
       "  </thead>\n",
       "  <tbody>\n",
       "    <tr>\n",
       "      <th>1961-01-01</th>\n",
       "      <td>-0.128429</td>\n",
       "      <td>-0.139998</td>\n",
       "      <td>002</td>\n",
       "      <td>-0.067686</td>\n",
       "      <td>-0.113729</td>\n",
       "      <td>0</td>\n",
       "      <td>0</td>\n",
       "      <td>1</td>\n",
       "      <td>0</td>\n",
       "      <td>0</td>\n",
       "      <td>0</td>\n",
       "    </tr>\n",
       "    <tr>\n",
       "      <th>1961-01-01</th>\n",
       "      <td>-0.200220</td>\n",
       "      <td>-0.183028</td>\n",
       "      <td>002</td>\n",
       "      <td>-0.188002</td>\n",
       "      <td>-0.192250</td>\n",
       "      <td>0</td>\n",
       "      <td>0</td>\n",
       "      <td>0</td>\n",
       "      <td>1</td>\n",
       "      <td>0</td>\n",
       "      <td>0</td>\n",
       "    </tr>\n",
       "    <tr>\n",
       "      <th>1961-01-01</th>\n",
       "      <td>-0.110850</td>\n",
       "      <td>-0.137705</td>\n",
       "      <td>002</td>\n",
       "      <td>-0.160552</td>\n",
       "      <td>-0.177094</td>\n",
       "      <td>0</td>\n",
       "      <td>0</td>\n",
       "      <td>0</td>\n",
       "      <td>0</td>\n",
       "      <td>0</td>\n",
       "      <td>1</td>\n",
       "    </tr>\n",
       "    <tr>\n",
       "      <th>1961-01-01</th>\n",
       "      <td>-0.196303</td>\n",
       "      <td>-0.180714</td>\n",
       "      <td>002</td>\n",
       "      <td>-0.181438</td>\n",
       "      <td>-0.188020</td>\n",
       "      <td>1</td>\n",
       "      <td>0</td>\n",
       "      <td>0</td>\n",
       "      <td>0</td>\n",
       "      <td>0</td>\n",
       "      <td>0</td>\n",
       "    </tr>\n",
       "    <tr>\n",
       "      <th>1961-01-01</th>\n",
       "      <td>-0.200220</td>\n",
       "      <td>-0.180649</td>\n",
       "      <td>002</td>\n",
       "      <td>-0.188002</td>\n",
       "      <td>-0.190068</td>\n",
       "      <td>0</td>\n",
       "      <td>1</td>\n",
       "      <td>0</td>\n",
       "      <td>0</td>\n",
       "      <td>0</td>\n",
       "      <td>0</td>\n",
       "    </tr>\n",
       "    <tr>\n",
       "      <th>...</th>\n",
       "      <td>...</td>\n",
       "      <td>...</td>\n",
       "      <td>...</td>\n",
       "      <td>...</td>\n",
       "      <td>...</td>\n",
       "      <td>...</td>\n",
       "      <td>...</td>\n",
       "      <td>...</td>\n",
       "      <td>...</td>\n",
       "      <td>...</td>\n",
       "      <td>...</td>\n",
       "    </tr>\n",
       "    <tr>\n",
       "      <th>2018-01-01</th>\n",
       "      <td>-0.198170</td>\n",
       "      <td>-0.182060</td>\n",
       "      <td>181</td>\n",
       "      <td>-0.187495</td>\n",
       "      <td>-0.191989</td>\n",
       "      <td>0</td>\n",
       "      <td>0</td>\n",
       "      <td>0</td>\n",
       "      <td>1</td>\n",
       "      <td>0</td>\n",
       "      <td>0</td>\n",
       "    </tr>\n",
       "    <tr>\n",
       "      <th>2018-01-01</th>\n",
       "      <td>-0.137533</td>\n",
       "      <td>-0.145716</td>\n",
       "      <td>181</td>\n",
       "      <td>-0.168748</td>\n",
       "      <td>-0.179773</td>\n",
       "      <td>0</td>\n",
       "      <td>0</td>\n",
       "      <td>0</td>\n",
       "      <td>0</td>\n",
       "      <td>0</td>\n",
       "      <td>1</td>\n",
       "    </tr>\n",
       "    <tr>\n",
       "      <th>2018-01-01</th>\n",
       "      <td>-0.168524</td>\n",
       "      <td>-0.155124</td>\n",
       "      <td>181</td>\n",
       "      <td>-0.134881</td>\n",
       "      <td>-0.141329</td>\n",
       "      <td>0</td>\n",
       "      <td>0</td>\n",
       "      <td>1</td>\n",
       "      <td>0</td>\n",
       "      <td>0</td>\n",
       "      <td>0</td>\n",
       "    </tr>\n",
       "    <tr>\n",
       "      <th>2018-01-01</th>\n",
       "      <td>-0.195400</td>\n",
       "      <td>-0.180179</td>\n",
       "      <td>181</td>\n",
       "      <td>-0.179924</td>\n",
       "      <td>-0.187044</td>\n",
       "      <td>1</td>\n",
       "      <td>0</td>\n",
       "      <td>0</td>\n",
       "      <td>0</td>\n",
       "      <td>0</td>\n",
       "      <td>0</td>\n",
       "    </tr>\n",
       "    <tr>\n",
       "      <th>2018-01-01</th>\n",
       "      <td>-0.200220</td>\n",
       "      <td>-0.130263</td>\n",
       "      <td>181</td>\n",
       "      <td>-0.188002</td>\n",
       "      <td>-0.143916</td>\n",
       "      <td>0</td>\n",
       "      <td>1</td>\n",
       "      <td>0</td>\n",
       "      <td>0</td>\n",
       "      <td>0</td>\n",
       "      <td>0</td>\n",
       "    </tr>\n",
       "  </tbody>\n",
       "</table>\n",
       "<p>40296 rows × 11 columns</p>\n",
       "</div>"
      ],
      "text/plain": [
       "            bioTotal  ecoTotal countryCode  bioFootprint  ecoFootprint  \\\n",
       "year                                                                     \n",
       "1961-01-01 -0.128429 -0.139998         002     -0.067686     -0.113729   \n",
       "1961-01-01 -0.200220 -0.183028         002     -0.188002     -0.192250   \n",
       "1961-01-01 -0.110850 -0.137705         002     -0.160552     -0.177094   \n",
       "1961-01-01 -0.196303 -0.180714         002     -0.181438     -0.188020   \n",
       "1961-01-01 -0.200220 -0.180649         002     -0.188002     -0.190068   \n",
       "...              ...       ...         ...           ...           ...   \n",
       "2018-01-01 -0.198170 -0.182060         181     -0.187495     -0.191989   \n",
       "2018-01-01 -0.137533 -0.145716         181     -0.168748     -0.179773   \n",
       "2018-01-01 -0.168524 -0.155124         181     -0.134881     -0.141329   \n",
       "2018-01-01 -0.195400 -0.180179         181     -0.179924     -0.187044   \n",
       "2018-01-01 -0.200220 -0.130263         181     -0.188002     -0.143916   \n",
       "\n",
       "            record_builtupLand  record_carbon  record_cropLand  \\\n",
       "year                                                             \n",
       "1961-01-01                   0              0                1   \n",
       "1961-01-01                   0              0                0   \n",
       "1961-01-01                   0              0                0   \n",
       "1961-01-01                   1              0                0   \n",
       "1961-01-01                   0              1                0   \n",
       "...                        ...            ...              ...   \n",
       "2018-01-01                   0              0                0   \n",
       "2018-01-01                   0              0                0   \n",
       "2018-01-01                   0              0                1   \n",
       "2018-01-01                   1              0                0   \n",
       "2018-01-01                   0              1                0   \n",
       "\n",
       "            record_fishingGround  record_forestLand  record_grazingLand  \n",
       "year                                                                     \n",
       "1961-01-01                     0                  0                   0  \n",
       "1961-01-01                     1                  0                   0  \n",
       "1961-01-01                     0                  0                   1  \n",
       "1961-01-01                     0                  0                   0  \n",
       "1961-01-01                     0                  0                   0  \n",
       "...                          ...                ...                 ...  \n",
       "2018-01-01                     1                  0                   0  \n",
       "2018-01-01                     0                  0                   1  \n",
       "2018-01-01                     0                  0                   0  \n",
       "2018-01-01                     0                  0                   0  \n",
       "2018-01-01                     0                  0                   0  \n",
       "\n",
       "[40296 rows x 11 columns]"
      ]
     },
     "execution_count": 5,
     "metadata": {},
     "output_type": "execute_result"
    }
   ],
   "source": [
    "df_others = encode(scale(df))\n",
    "df_others.index = df_others.year\n",
    "df_others = df_others.drop(['year'], 1)\n",
    "df_others"
   ]
  },
  {
   "cell_type": "markdown",
   "id": "61e1720c",
   "metadata": {},
   "source": [
    "## Prediction Models\n",
    "\n",
    "### 1. Hist Gradient Bossting Regressor"
   ]
  },
  {
   "cell_type": "code",
   "execution_count": 6,
   "id": "47ee38c9",
   "metadata": {},
   "outputs": [],
   "source": [
    "from sklearn.model_selection import train_test_split\n",
    "train, test = train_test_split(df_others, test_size=0.2)\n",
    "\n",
    "X_train = train.iloc[:,[0,2]]\n",
    "y_train = train[\"ecoFootprint\"]\n",
    "X_test = test.iloc[:,[0,2]]"
   ]
  },
  {
   "cell_type": "code",
   "execution_count": 7,
   "id": "f7553ca1",
   "metadata": {},
   "outputs": [],
   "source": [
    "from sklearn.ensemble import HistGradientBoostingRegressor\n",
    "\n",
    "regressor = HistGradientBoostingRegressor(min_samples_leaf=1)\n",
    "regressor.fit(X_train, y_train)\n",
    "test[\"predictions\"] = regressor.predict(X_test)"
   ]
  },
  {
   "cell_type": "code",
   "execution_count": 8,
   "id": "86227011",
   "metadata": {},
   "outputs": [],
   "source": [
    "# fig, ax = plt.subplots(1, 1, figsize=(10, 5))\n",
    "# ax.plot(train.index,train[\"ecoFootprint\"], label='train data', color=\"green\")\n",
    "# ax.plot(test.index,test[\"ecoFootprint\"], label='test data', color=\"blue\")\n",
    "# ax.scatter(test.index, test[\"predictions\"], label='predictions', color=\"red\", s=75)\n",
    "# ax.legend(loc=\"upper left\")\n",
    "# plt.show();"
   ]
  },
  {
   "cell_type": "code",
   "execution_count": 9,
   "id": "cd312162",
   "metadata": {},
   "outputs": [
    {
     "name": "stdout",
     "output_type": "stream",
     "text": [
      "MSE = 0.2334\n"
     ]
    }
   ],
   "source": [
    "from sklearn.metrics import mean_squared_error\n",
    "print('MSE = %.4g' % mean_squared_error(test[\"ecoFootprint\"],test[\"predictions\"]))"
   ]
  },
  {
   "cell_type": "markdown",
   "id": "61cf420f",
   "metadata": {},
   "source": [
    "### 2. Linear Tree"
   ]
  },
  {
   "cell_type": "code",
   "execution_count": 10,
   "id": "2c0c17d9",
   "metadata": {},
   "outputs": [],
   "source": [
    "# !pip install -q --upgrade linear-tree\n",
    "\n",
    "from lineartree import LinearBoostRegressor\n",
    "from sklearn.linear_model import LinearRegression"
   ]
  },
  {
   "cell_type": "code",
   "execution_count": 11,
   "id": "d5278e79",
   "metadata": {},
   "outputs": [],
   "source": [
    "regressor = LinearBoostRegressor(base_estimator=LinearRegression(),\n",
    "                                 n_estimators = 300, \n",
    "                                 max_depth    = 5,\n",
    "                                 random_state = 42)\n",
    "regressor.fit(X_train, y_train)\n",
    "test[\"predictions\"] = regressor.predict(X_test)"
   ]
  },
  {
   "cell_type": "code",
   "execution_count": 12,
   "id": "30678cb4",
   "metadata": {},
   "outputs": [],
   "source": [
    "# fig, ax = plt.subplots(1, 1, figsize=(10, 5))\n",
    "# ax.plot(train.index,train[\"ecoFootprint\"], label='train data', color=\"green\")\n",
    "# ax.plot(test.index,test[\"ecoFootprint\"], label='test data', color=\"blue\")\n",
    "# ax.scatter(test.index, test[\"predictions\"], label='predictions', color=\"red\", s=75)\n",
    "# ax.legend(loc=\"upper left\")\n",
    "# plt.show();"
   ]
  },
  {
   "cell_type": "code",
   "execution_count": 13,
   "id": "681f90e9",
   "metadata": {},
   "outputs": [
    {
     "name": "stdout",
     "output_type": "stream",
     "text": [
      "MSE = 0.2347\n"
     ]
    }
   ],
   "source": [
    "print('MSE = %.4g' % mean_squared_error(test[\"ecoFootprint\"],test[\"predictions\"]))"
   ]
  },
  {
   "cell_type": "code",
   "execution_count": 14,
   "id": "b86242a7",
   "metadata": {},
   "outputs": [],
   "source": [
    "# import pandas as pd\n",
    "# import numpy as np\n",
    "# import matplotlib.pyplot as plt\n",
    "# plt.style.use('fivethirtyeight')\n",
    "# plt.rcParams.update({'font.size': 16})\n",
    "\n",
    "# !pip install -q ptitprince\n",
    "# import ptitprince as pt\n",
    "\n",
    "# mono_font = {'fontname':'monospace'}\n",
    "# fig, ax = plt.subplots(1, 1, figsize=(15, 5))\n",
    "# pt.RainCloud(data=train_data, y = \"ecoFootprint\", bw=0.1, cut=0, hue=['teal'], orient='h', label=\"training data\", palette=['teal'], alpha = .65)\n",
    "# pt.RainCloud(data=test_data, y = \"predictions\", bw=0.1, cut=0, orient='h',label=\"predictions\", hue=['crimson'], palette=['crimson'], alpha = .65)\n",
    "# plt.title(\"Indoor_temperature_room\", fontsize=18, **mono_font)\n",
    "# plt.xlabel(\"Temperature\")\n",
    "# legend = plt.legend()\n",
    "# plt.tick_params(labelleft=False, left=False)\n",
    "# plt.show()"
   ]
  },
  {
   "cell_type": "markdown",
   "id": "b7f932a2",
   "metadata": {},
   "source": [
    "### 3. Tabular Regression"
   ]
  },
  {
   "cell_type": "code",
   "execution_count": 15,
   "id": "fc9268b5",
   "metadata": {},
   "outputs": [],
   "source": [
    "from tqdm.notebook import tqdm\n",
    "import matplotlib.pyplot as plt\n",
    "import torch\n",
    "import torch.nn as nn\n",
    "import torch.optim as optim\n",
    "from torch.utils.data import Dataset, DataLoader\n",
    "from sklearn.preprocessing import MinMaxScaler    \n",
    "from sklearn.model_selection import train_test_split\n",
    "from sklearn.metrics import mean_squared_error, r2_score"
   ]
  },
  {
   "cell_type": "code",
   "execution_count": 16,
   "id": "44618349",
   "metadata": {},
   "outputs": [],
   "source": [
    "# X is all columns except target var and y is target var\n",
    "X = df_others.drop([\"ecoFootprint\"], 1)\n",
    "y = df_others[\"ecoFootprint\"]\n",
    "y = np.asarray(y).astype('float32')"
   ]
  },
  {
   "cell_type": "code",
   "execution_count": 17,
   "id": "a050faed",
   "metadata": {},
   "outputs": [],
   "source": [
    "# Train - Test\n",
    "X_trainval, X_test, y_trainval, y_test = train_test_split(X, y, test_size=0.2, random_state=69)\n",
    "\n",
    "# Split train into train-val\n",
    "X_train, X_val, y_train, y_val = train_test_split(X_trainval, y_trainval, test_size=0.1, random_state=21)"
   ]
  },
  {
   "cell_type": "code",
   "execution_count": 18,
   "id": "f0c4cf82",
   "metadata": {},
   "outputs": [],
   "source": [
    "y_train, y_test, y_val = y_train.astype('float32'), y_test.astype(float), y_val.astype(float)\n",
    "X_train = np.asarray(X_train).astype('float32')\n",
    "X_val = np.asarray(X_val).astype('float32')\n",
    "X_test = np.asarray(X_test).astype('float32')"
   ]
  },
  {
   "cell_type": "markdown",
   "id": "865e0062",
   "metadata": {},
   "source": [
    "- The <code> torch.from_numpy </code> module helps to convert the numpy array into a tensor in PyTorch.\n",
    "- The returned tensor and initial numpy array share the same memory. However, the tensor is not resizeable.\n",
    "- <code> RegressionDataset </code> is a custom class that uses PyTorch's Dataset module."
   ]
  },
  {
   "cell_type": "code",
   "execution_count": 19,
   "id": "3a1b5b42",
   "metadata": {},
   "outputs": [],
   "source": [
    "class RegressionDataset(Dataset):\n",
    "    # Initializing the data that we will be using\n",
    "    def __init__(self, X_data, y_data):\n",
    "        self.X_data = X_data\n",
    "        self.y_data = y_data\n",
    "    \n",
    "    # Gets a sample of the data being passed and constructs the dataset\n",
    "    # Hence it will loop through the function and create a sample from each instance in the dataset\n",
    "    # index is the data instance being looped through\n",
    "    def __getitem__(self, index):\n",
    "        return self.X_data[index], self.y_data[index]\n",
    "        \n",
    "    # Returns the length of the data\n",
    "    def __len__ (self):\n",
    "        return len(self.X_data)\n",
    "    \n",
    "train_dataset = RegressionDataset(torch.from_numpy(X_train).float(), torch.from_numpy(y_train).float())\n",
    "val_dataset = RegressionDataset(torch.from_numpy(X_val).float(), torch.from_numpy(y_val).float())\n",
    "test_dataset = RegressionDataset(torch.from_numpy(X_test).float(), torch.from_numpy(y_test).float())"
   ]
  },
  {
   "cell_type": "markdown",
   "id": "ed47c3f0",
   "metadata": {},
   "source": [
    "- First, we initialize the model parameters\n",
    "- Then, making use of Torch's DataLoader module to pass samples in <b> mini batches. </b> This ensures that the data is reshuffled at every epoch to reduce overfitting."
   ]
  },
  {
   "cell_type": "code",
   "execution_count": 20,
   "id": "b41ec699",
   "metadata": {},
   "outputs": [],
   "source": [
    "EPOCHS = 150\n",
    "BATCH_SIZE = 64\n",
    "LEARNING_RATE = 0.001\n",
    "NUM_FEATURES = len(X.columns)\n",
    "\n",
    "train_loader = DataLoader(dataset=train_dataset, batch_size=BATCH_SIZE, shuffle=True)\n",
    "val_loader = DataLoader(dataset=val_dataset, batch_size=1)\n",
    "test_loader = DataLoader(dataset=test_dataset, batch_size=1)"
   ]
  },
  {
   "cell_type": "code",
   "execution_count": 21,
   "id": "8e61f08c",
   "metadata": {},
   "outputs": [],
   "source": [
    "class MultipleRegression(nn.Module):\n",
    "    def __init__(self, num_features):\n",
    "        super(MultipleRegression, self).__init__()\n",
    "        \n",
    "        self.layer_1 = nn.Linear(num_features, 16)\n",
    "        self.layer_2 = nn.Linear(16, 32)\n",
    "        self.layer_3 = nn.Linear(32, 16)\n",
    "        self.layer_out = nn.Linear(16, 1)\n",
    "        self.relu = nn.ReLU()\n",
    "        \n",
    "    def forward(self, inputs):\n",
    "        x = self.relu(self.layer_1(inputs))\n",
    "        x = self.relu(self.layer_2(x))\n",
    "        x = self.relu(self.layer_3(x))\n",
    "        x = self.layer_out(x)\n",
    "        return (x)\n",
    "\n",
    "    def predict(self, test_inputs):\n",
    "        x = self.relu(self.layer_1(test_inputs))\n",
    "        x = self.relu(self.layer_2(x))\n",
    "        x = self.relu(self.layer_3(x))\n",
    "        x = self.layer_out(x)\n",
    "        return (x)"
   ]
  },
  {
   "cell_type": "code",
   "execution_count": 22,
   "id": "cefe2b40",
   "metadata": {},
   "outputs": [
    {
     "name": "stdout",
     "output_type": "stream",
     "text": [
      "cpu\n"
     ]
    }
   ],
   "source": [
    "device = torch.device(\"cuda:0\" if torch.cuda.is_available() else \"cpu\")\n",
    "print(device)\n",
    "###################### OUTPUT ######################\n",
    "cuda:0"
   ]
  },
  {
   "cell_type": "code",
   "execution_count": 23,
   "id": "cbc64123",
   "metadata": {},
   "outputs": [
    {
     "name": "stdout",
     "output_type": "stream",
     "text": [
      "MultipleRegression(\n",
      "  (layer_1): Linear(in_features=10, out_features=16, bias=True)\n",
      "  (layer_2): Linear(in_features=16, out_features=32, bias=True)\n",
      "  (layer_3): Linear(in_features=32, out_features=16, bias=True)\n",
      "  (layer_out): Linear(in_features=16, out_features=1, bias=True)\n",
      "  (relu): ReLU()\n",
      ")\n"
     ]
    }
   ],
   "source": [
    "model = MultipleRegression(NUM_FEATURES)\n",
    "model.to(device)\n",
    "print(model)\n",
    "criterion = nn.MSELoss()\n",
    "optimizer = optim.Adam(model.parameters(), lr=LEARNING_RATE)"
   ]
  },
  {
   "cell_type": "code",
   "execution_count": 24,
   "id": "b61d46dd",
   "metadata": {},
   "outputs": [],
   "source": [
    "loss_stats = {\n",
    "    'train': [],\n",
    "    \"val\": []\n",
    "}"
   ]
  },
  {
   "cell_type": "code",
   "execution_count": 25,
   "id": "8a034372",
   "metadata": {},
   "outputs": [
    {
     "name": "stdout",
     "output_type": "stream",
     "text": [
      "Begin training.\n"
     ]
    },
    {
     "data": {
      "application/vnd.jupyter.widget-view+json": {
       "model_id": "c862fe38e8c646ad9aef88c0add99d8f",
       "version_major": 2,
       "version_minor": 0
      },
      "text/plain": [
       "  0%|          | 0/150 [00:00<?, ?it/s]"
      ]
     },
     "metadata": {},
     "output_type": "display_data"
    },
    {
     "name": "stdout",
     "output_type": "stream",
     "text": [
      "Epoch 001: | Train Loss: 0.65521 | Val Loss: 0.13024\n",
      "Epoch 002: | Train Loss: 0.03187 | Val Loss: 0.00983\n",
      "Epoch 003: | Train Loss: 0.00914 | Val Loss: 0.00397\n",
      "Epoch 004: | Train Loss: 0.00538 | Val Loss: 0.00337\n",
      "Epoch 005: | Train Loss: 0.00461 | Val Loss: 0.00260\n",
      "Epoch 006: | Train Loss: 0.00439 | Val Loss: 0.00849\n",
      "Epoch 007: | Train Loss: 0.00449 | Val Loss: 0.00612\n",
      "Epoch 008: | Train Loss: 0.00415 | Val Loss: 0.00822\n",
      "Epoch 009: | Train Loss: 0.00460 | Val Loss: 0.00227\n",
      "Epoch 010: | Train Loss: 0.00564 | Val Loss: 0.00195\n",
      "Epoch 011: | Train Loss: 0.00430 | Val Loss: 0.00308\n",
      "Epoch 012: | Train Loss: 0.00399 | Val Loss: 0.00195\n",
      "Epoch 013: | Train Loss: 0.00403 | Val Loss: 0.00201\n",
      "Epoch 014: | Train Loss: 0.00283 | Val Loss: 0.00725\n",
      "Epoch 015: | Train Loss: 0.00398 | Val Loss: 0.00207\n",
      "Epoch 016: | Train Loss: 0.00368 | Val Loss: 0.00324\n",
      "Epoch 017: | Train Loss: 0.00323 | Val Loss: 0.00169\n",
      "Epoch 018: | Train Loss: 0.00614 | Val Loss: 0.00305\n",
      "Epoch 019: | Train Loss: 0.00309 | Val Loss: 0.00233\n",
      "Epoch 020: | Train Loss: 0.00217 | Val Loss: 0.00115\n",
      "Epoch 021: | Train Loss: 0.00252 | Val Loss: 0.00147\n",
      "Epoch 022: | Train Loss: 0.00425 | Val Loss: 0.00151\n",
      "Epoch 023: | Train Loss: 0.00369 | Val Loss: 0.00150\n",
      "Epoch 024: | Train Loss: 0.00259 | Val Loss: 0.00144\n",
      "Epoch 025: | Train Loss: 0.00287 | Val Loss: 0.00159\n",
      "Epoch 026: | Train Loss: 0.00280 | Val Loss: 0.00151\n",
      "Epoch 027: | Train Loss: 0.00257 | Val Loss: 0.00119\n",
      "Epoch 028: | Train Loss: 0.00186 | Val Loss: 0.00124\n",
      "Epoch 029: | Train Loss: 0.00147 | Val Loss: 0.00100\n",
      "Epoch 030: | Train Loss: 0.00230 | Val Loss: 0.00284\n",
      "Epoch 031: | Train Loss: 0.00264 | Val Loss: 0.00220\n",
      "Epoch 032: | Train Loss: 0.00186 | Val Loss: 0.00118\n",
      "Epoch 033: | Train Loss: 0.00249 | Val Loss: 0.00204\n",
      "Epoch 034: | Train Loss: 0.00290 | Val Loss: 0.00076\n",
      "Epoch 035: | Train Loss: 0.00327 | Val Loss: 0.00143\n",
      "Epoch 036: | Train Loss: 0.00249 | Val Loss: 0.00542\n",
      "Epoch 037: | Train Loss: 0.00177 | Val Loss: 0.00205\n",
      "Epoch 038: | Train Loss: 0.00158 | Val Loss: 0.00097\n",
      "Epoch 039: | Train Loss: 0.00141 | Val Loss: 0.00124\n",
      "Epoch 040: | Train Loss: 0.00168 | Val Loss: 0.00113\n",
      "Epoch 041: | Train Loss: 0.00201 | Val Loss: 0.00119\n",
      "Epoch 042: | Train Loss: 0.00211 | Val Loss: 0.01870\n",
      "Epoch 043: | Train Loss: 0.00222 | Val Loss: 0.00230\n",
      "Epoch 044: | Train Loss: 0.00172 | Val Loss: 0.00117\n",
      "Epoch 045: | Train Loss: 0.00154 | Val Loss: 0.00166\n",
      "Epoch 046: | Train Loss: 0.00284 | Val Loss: 0.00359\n",
      "Epoch 047: | Train Loss: 0.00161 | Val Loss: 0.00185\n",
      "Epoch 048: | Train Loss: 0.00120 | Val Loss: 0.00250\n",
      "Epoch 049: | Train Loss: 0.00126 | Val Loss: 0.00087\n",
      "Epoch 050: | Train Loss: 0.00353 | Val Loss: 0.00100\n",
      "Epoch 051: | Train Loss: 0.00114 | Val Loss: 0.00076\n",
      "Epoch 052: | Train Loss: 0.00124 | Val Loss: 0.00074\n",
      "Epoch 053: | Train Loss: 0.00106 | Val Loss: 0.00108\n",
      "Epoch 054: | Train Loss: 0.00171 | Val Loss: 0.00129\n",
      "Epoch 055: | Train Loss: 0.00136 | Val Loss: 0.00111\n",
      "Epoch 056: | Train Loss: 0.00136 | Val Loss: 0.00199\n",
      "Epoch 057: | Train Loss: 0.00161 | Val Loss: 0.00100\n",
      "Epoch 058: | Train Loss: 0.00150 | Val Loss: 0.00401\n",
      "Epoch 059: | Train Loss: 0.00122 | Val Loss: 0.00194\n",
      "Epoch 060: | Train Loss: 0.00106 | Val Loss: 0.00058\n",
      "Epoch 061: | Train Loss: 0.00128 | Val Loss: 0.00103\n",
      "Epoch 062: | Train Loss: 0.00230 | Val Loss: 0.00108\n",
      "Epoch 063: | Train Loss: 0.00153 | Val Loss: 0.00158\n",
      "Epoch 064: | Train Loss: 0.00115 | Val Loss: 0.00068\n",
      "Epoch 065: | Train Loss: 0.00108 | Val Loss: 0.00199\n",
      "Epoch 066: | Train Loss: 0.00094 | Val Loss: 0.00047\n",
      "Epoch 067: | Train Loss: 0.00098 | Val Loss: 0.00105\n",
      "Epoch 068: | Train Loss: 0.00190 | Val Loss: 0.00392\n",
      "Epoch 069: | Train Loss: 0.00118 | Val Loss: 0.00048\n",
      "Epoch 070: | Train Loss: 0.00123 | Val Loss: 0.00039\n",
      "Epoch 071: | Train Loss: 0.00136 | Val Loss: 0.00065\n",
      "Epoch 072: | Train Loss: 0.00157 | Val Loss: 0.00065\n",
      "Epoch 073: | Train Loss: 0.00478 | Val Loss: 0.00134\n",
      "Epoch 074: | Train Loss: 0.00082 | Val Loss: 0.00127\n",
      "Epoch 075: | Train Loss: 0.00066 | Val Loss: 0.00093\n",
      "Epoch 076: | Train Loss: 0.00091 | Val Loss: 0.00039\n",
      "Epoch 077: | Train Loss: 0.00090 | Val Loss: 0.00049\n",
      "Epoch 078: | Train Loss: 0.00136 | Val Loss: 0.00070\n",
      "Epoch 079: | Train Loss: 0.00314 | Val Loss: 0.00066\n",
      "Epoch 080: | Train Loss: 0.00098 | Val Loss: 0.00097\n",
      "Epoch 081: | Train Loss: 0.00102 | Val Loss: 0.00075\n",
      "Epoch 082: | Train Loss: 0.00112 | Val Loss: 0.00056\n",
      "Epoch 083: | Train Loss: 0.00081 | Val Loss: 0.00106\n",
      "Epoch 084: | Train Loss: 0.00118 | Val Loss: 0.00054\n",
      "Epoch 085: | Train Loss: 0.00104 | Val Loss: 0.00057\n",
      "Epoch 086: | Train Loss: 0.00073 | Val Loss: 0.01017\n",
      "Epoch 087: | Train Loss: 0.00117 | Val Loss: 0.00044\n",
      "Epoch 088: | Train Loss: 0.00074 | Val Loss: 0.00049\n",
      "Epoch 089: | Train Loss: 0.00142 | Val Loss: 0.00037\n",
      "Epoch 090: | Train Loss: 0.00118 | Val Loss: 0.00100\n",
      "Epoch 091: | Train Loss: 0.00078 | Val Loss: 0.00027\n",
      "Epoch 092: | Train Loss: 0.00067 | Val Loss: 0.00062\n",
      "Epoch 093: | Train Loss: 0.00128 | Val Loss: 0.00033\n",
      "Epoch 094: | Train Loss: 0.00065 | Val Loss: 0.00070\n",
      "Epoch 095: | Train Loss: 0.00096 | Val Loss: 0.00144\n",
      "Epoch 096: | Train Loss: 0.00085 | Val Loss: 0.00034\n",
      "Epoch 097: | Train Loss: 0.00200 | Val Loss: 0.00059\n",
      "Epoch 098: | Train Loss: 0.00047 | Val Loss: 0.00035\n",
      "Epoch 099: | Train Loss: 0.00106 | Val Loss: 0.00039\n",
      "Epoch 100: | Train Loss: 0.00085 | Val Loss: 0.00062\n",
      "Epoch 101: | Train Loss: 0.00269 | Val Loss: 0.00039\n",
      "Epoch 102: | Train Loss: 0.00045 | Val Loss: 0.00087\n",
      "Epoch 103: | Train Loss: 0.00060 | Val Loss: 0.00035\n",
      "Epoch 104: | Train Loss: 0.00133 | Val Loss: 0.00133\n",
      "Epoch 105: | Train Loss: 0.00117 | Val Loss: 0.00026\n",
      "Epoch 106: | Train Loss: 0.00116 | Val Loss: 0.00043\n",
      "Epoch 107: | Train Loss: 0.00302 | Val Loss: 0.00045\n",
      "Epoch 108: | Train Loss: 0.00057 | Val Loss: 0.00060\n",
      "Epoch 109: | Train Loss: 0.00038 | Val Loss: 0.00024\n",
      "Epoch 110: | Train Loss: 0.00093 | Val Loss: 0.00044\n",
      "Epoch 111: | Train Loss: 0.00080 | Val Loss: 0.00021\n",
      "Epoch 112: | Train Loss: 0.00045 | Val Loss: 0.00028\n",
      "Epoch 113: | Train Loss: 0.00114 | Val Loss: 0.00040\n",
      "Epoch 114: | Train Loss: 0.00182 | Val Loss: 0.00075\n",
      "Epoch 115: | Train Loss: 0.00041 | Val Loss: 0.00019\n",
      "Epoch 116: | Train Loss: 0.00048 | Val Loss: 0.00061\n",
      "Epoch 117: | Train Loss: 0.00066 | Val Loss: 0.00032\n",
      "Epoch 118: | Train Loss: 0.00108 | Val Loss: 0.00045\n",
      "Epoch 119: | Train Loss: 0.00108 | Val Loss: 0.00034\n",
      "Epoch 120: | Train Loss: 0.00097 | Val Loss: 0.00107\n",
      "Epoch 121: | Train Loss: 0.00094 | Val Loss: 0.00031\n",
      "Epoch 122: | Train Loss: 0.00042 | Val Loss: 0.00049\n",
      "Epoch 123: | Train Loss: 0.00120 | Val Loss: 0.00221\n",
      "Epoch 124: | Train Loss: 0.00079 | Val Loss: 0.00042\n",
      "Epoch 125: | Train Loss: 0.00051 | Val Loss: 0.00044\n",
      "Epoch 126: | Train Loss: 0.00093 | Val Loss: 0.00060\n",
      "Epoch 127: | Train Loss: 0.00057 | Val Loss: 0.00116\n",
      "Epoch 128: | Train Loss: 0.00130 | Val Loss: 0.00504\n",
      "Epoch 129: | Train Loss: 0.00094 | Val Loss: 0.00074\n",
      "Epoch 130: | Train Loss: 0.00239 | Val Loss: 0.00090\n",
      "Epoch 131: | Train Loss: 0.00189 | Val Loss: 0.00043\n",
      "Epoch 132: | Train Loss: 0.00040 | Val Loss: 0.00019\n",
      "Epoch 133: | Train Loss: 0.00036 | Val Loss: 0.00018\n",
      "Epoch 134: | Train Loss: 0.00043 | Val Loss: 0.00160\n",
      "Epoch 135: | Train Loss: 0.00303 | Val Loss: 0.00030\n",
      "Epoch 136: | Train Loss: 0.00059 | Val Loss: 0.00057\n",
      "Epoch 137: | Train Loss: 0.00041 | Val Loss: 0.00095\n",
      "Epoch 138: | Train Loss: 0.00040 | Val Loss: 0.00027\n",
      "Epoch 139: | Train Loss: 0.00035 | Val Loss: 0.00155\n",
      "Epoch 140: | Train Loss: 0.00127 | Val Loss: 0.00025\n",
      "Epoch 141: | Train Loss: 0.00096 | Val Loss: 0.00584\n",
      "Epoch 142: | Train Loss: 0.00169 | Val Loss: 0.00069\n",
      "Epoch 143: | Train Loss: 0.00063 | Val Loss: 0.00103\n",
      "Epoch 144: | Train Loss: 0.00036 | Val Loss: 0.00025\n",
      "Epoch 145: | Train Loss: 0.00180 | Val Loss: 0.00047\n",
      "Epoch 146: | Train Loss: 0.00075 | Val Loss: 0.00032\n",
      "Epoch 147: | Train Loss: 0.00044 | Val Loss: 0.00017\n",
      "Epoch 148: | Train Loss: 0.00046 | Val Loss: 0.00058\n",
      "Epoch 149: | Train Loss: 0.00046 | Val Loss: 0.00248\n",
      "Epoch 150: | Train Loss: 0.00106 | Val Loss: 0.00018\n"
     ]
    }
   ],
   "source": [
    "print(\"Begin training.\")\n",
    "for e in tqdm(range(1, EPOCHS+1)):\n",
    "    \n",
    "    # TRAINING\n",
    "    train_epoch_loss = 0\n",
    "    model.train()\n",
    "    for X_train_batch, y_train_batch in train_loader:\n",
    "        X_train_batch, y_train_batch = X_train_batch.to(device), y_train_batch.to(device)\n",
    "        optimizer.zero_grad()\n",
    "\n",
    "        y_train_pred = model(X_train_batch)\n",
    "\n",
    "        train_loss = criterion(y_train_pred, y_train_batch.unsqueeze(1))\n",
    "\n",
    "        train_loss.backward()\n",
    "        optimizer.step()\n",
    "        train_epoch_loss += train_loss.item()\n",
    "        \n",
    "        \n",
    "    # VALIDATION    \n",
    "    with torch.no_grad():\n",
    "        val_epoch_loss = 0\n",
    "        model.eval()\n",
    "        for X_val_batch, y_val_batch in val_loader:\n",
    "            X_val_batch, y_val_batch = X_val_batch.to(device), y_val_batch.to(device)\n",
    "            \n",
    "            y_val_pred = model(X_val_batch)    \n",
    "            val_loss = criterion(y_val_pred, y_val_batch.unsqueeze(1))\n",
    "            val_epoch_loss += val_loss.item()\n",
    "            \n",
    "    loss_stats['train'].append(train_epoch_loss/len(train_loader))\n",
    "    loss_stats['val'].append(val_epoch_loss/len(val_loader))                              \n",
    "    \n",
    "    print(f'Epoch {e+0:03}: | Train Loss: {train_epoch_loss/len(train_loader):.5f} | Val Loss: {val_epoch_loss/len(val_loader):.5f}')"
   ]
  },
  {
   "cell_type": "code",
   "execution_count": 26,
   "id": "d9221d6e",
   "metadata": {},
   "outputs": [
    {
     "data": {
      "text/plain": [
       "Text(0.5, 1.0, 'Train-Val Loss/Epoch')"
      ]
     },
     "execution_count": 26,
     "metadata": {},
     "output_type": "execute_result"
    },
    {
     "data": {
      "image/png": "[encoded data removed]",
      "text/plain": [
       "<Figure size 1080x576 with 1 Axes>"
      ]
     },
     "metadata": {
      "needs_background": "light"
     },
     "output_type": "display_data"
    }
   ],
   "source": [
    "train_val_loss_df = pd.DataFrame.from_dict(loss_stats).reset_index().melt(id_vars=['index']).rename(columns={\"index\":\"epochs\"})\n",
    "plt.figure(figsize=(15,8))\n",
    "sns.lineplot(data=train_val_loss_df, x = \"epochs\", y=\"value\", hue=\"variable\").set_title('Train-Val Loss/Epoch')"
   ]
  },
  {
   "cell_type": "code",
   "execution_count": 27,
   "id": "5b441d92",
   "metadata": {},
   "outputs": [],
   "source": [
    "y_pred_list = []\n",
    "with torch.no_grad():\n",
    "    model.eval()\n",
    "    for X_batch, _ in test_loader:\n",
    "        X_batch = X_batch.to(device)\n",
    "        y_test_pred = model(X_batch)\n",
    "        y_pred_list.append(y_test_pred.cpu().numpy())\n",
    "y_pred_list = [a.squeeze().tolist() for a in y_pred_list]"
   ]
  },
  {
   "cell_type": "code",
   "execution_count": 28,
   "id": "c4691807",
   "metadata": {},
   "outputs": [
    {
     "name": "stdout",
     "output_type": "stream",
     "text": [
      "Mean Squared Error : 0.00019035943732544972\n",
      "R^2 : 0.9998372588629642\n"
     ]
    }
   ],
   "source": [
    "mse = mean_squared_error(y_test, y_pred_list)\n",
    "r_square = r2_score(y_test, y_pred_list)\n",
    "print(\"Mean Squared Error :\",mse)\n",
    "print(\"R^2 :\",r_square)"
   ]
  },
  {
   "cell_type": "markdown",
   "id": "fce77f44",
   "metadata": {},
   "source": [
    "#### Predicting for a new row of values"
   ]
  },
  {
   "cell_type": "code",
   "execution_count": 29,
   "id": "35dfdc20",
   "metadata": {},
   "outputs": [],
   "source": [
    "T = [[-0.186135, -0.167322, 211, -0.183676, 0, 0, 0, 0, 0, 1],\n",
    "    [-0.171125, -0.177002, 211, -0.203476, 0, 0, 0, 0, 0, 1]]\n",
    "\n",
    "# T = np.array([np.array(xi) for xi in T])\n",
    "T = RegressionDataset(torch.from_numpy(np.array([np.array(xi) for xi in T])).float(), torch.from_numpy(y_train).float())\n",
    "\n",
    "t_loader = DataLoader(dataset=T, batch_size=BATCH_SIZE, shuffle=True)\n",
    "\n",
    "y_pred_list = []\n",
    "with torch.no_grad():\n",
    "    model.eval()\n",
    "    for X_batch, _ in t_loader:\n",
    "        X_batch = X_batch.to(device)\n",
    "        y_test_pred = model(X_batch)\n",
    "        y_pred_list.append(y_test_pred.cpu().numpy())\n",
    "        \n",
    "y_pred_list = [a.squeeze().tolist() for a in y_pred_list]"
   ]
  },
  {
   "cell_type": "code",
   "execution_count": 30,
   "id": "915c9891",
   "metadata": {},
   "outputs": [
    {
     "data": {
      "text/plain": [
       "[[-0.1796792894601822, -0.1834317147731781]]"
      ]
     },
     "execution_count": 30,
     "metadata": {},
     "output_type": "execute_result"
    }
   ],
   "source": [
    "y_pred_list"
   ]
  },
  {
   "cell_type": "markdown",
   "id": "f4ce429f",
   "metadata": {},
   "source": [
    "### 4. Random Forest"
   ]
  },
  {
   "cell_type": "code",
   "execution_count": 31,
   "id": "0e683236",
   "metadata": {},
   "outputs": [],
   "source": [
    "# X is all columns except target var and y is target var\n",
    "X = df_others.drop([\"ecoFootprint\"], 1)\n",
    "y = df_others[\"ecoFootprint\"]\n",
    "y = np.asarray(y).astype('float32')\n",
    "\n",
    "# Split train into train-val\n",
    "X_train, X_test, y_train, y_test = train_test_split(X, y, test_size=0.2, random_state=21)"
   ]
  },
  {
   "cell_type": "code",
   "execution_count": 32,
   "id": "fecbd4b5",
   "metadata": {},
   "outputs": [
    {
     "data": {
      "text/plain": [
       "array([-0.19146031, -0.19216598, -0.01648922, ..., -0.19174319,\n",
       "       -0.19219363,  0.05137983])"
      ]
     },
     "execution_count": 32,
     "metadata": {},
     "output_type": "execute_result"
    }
   ],
   "source": [
    "from sklearn.ensemble import RandomForestRegressor\n",
    "\n",
    "model = RandomForestRegressor(n_estimators = 10, random_state = 0)\n",
    "model.fit(X_train, y_train)\n",
    "\n",
    "y_pred = model.predict(X_test)\n",
    "y_pred"
   ]
  },
  {
   "cell_type": "code",
   "execution_count": 33,
   "id": "cdbbd8d7",
   "metadata": {},
   "outputs": [
    {
     "data": {
      "text/plain": [
       "8060"
      ]
     },
     "execution_count": 33,
     "metadata": {},
     "output_type": "execute_result"
    }
   ],
   "source": [
    "len(y_test)"
   ]
  },
  {
   "cell_type": "code",
   "execution_count": 34,
   "id": "2b7b26a3",
   "metadata": {},
   "outputs": [
    {
     "name": "stdout",
     "output_type": "stream",
     "text": [
      "Mean Squared Error : 0.00040444018359855714\n",
      "R^2 : 0.9995876937381284\n"
     ]
    }
   ],
   "source": [
    "mse = mean_squared_error(y_test, y_pred)\n",
    "r_square = r2_score(y_test, y_pred)\n",
    "\n",
    "print(\"Mean Squared Error :\",mse)\n",
    "print(\"R^2 :\",r_square)"
   ]
  },
  {
   "cell_type": "markdown",
   "id": "6e507fa8",
   "metadata": {},
   "source": [
    "### 5. Decision Trees"
   ]
  },
  {
   "cell_type": "code",
   "execution_count": 35,
   "id": "9cbd3900",
   "metadata": {},
   "outputs": [],
   "source": [
    "from sklearn.tree import DecisionTreeRegressor\n",
    "\n",
    "tree = DecisionTreeRegressor(max_depth = 1)\n",
    "tree.fit(X_train, y_train)\n",
    "\n",
    "y_pred_train = tree.predict(X_test).reshape(-1)"
   ]
  },
  {
   "cell_type": "code",
   "execution_count": 36,
   "id": "8720ab5b",
   "metadata": {},
   "outputs": [
    {
     "name": "stdout",
     "output_type": "stream",
     "text": [
      "Mean Squared Error : 0.44230200385051377\n",
      "R^2 : 0.5490955319935955\n"
     ]
    }
   ],
   "source": [
    "mse = mean_squared_error(y_test, y_pred_train)\n",
    "r_square = r2_score(y_test, y_pred_train)\n",
    "\n",
    "print(\"Mean Squared Error :\",mse)\n",
    "print(\"R^2 :\",r_square)"
   ]
  },
  {
   "cell_type": "code",
   "execution_count": null,
   "id": "1434b748",
   "metadata": {},
   "outputs": [],
   "source": []
  },
  {
   "cell_type": "code",
   "execution_count": null,
   "id": "fa08a3cd",
   "metadata": {},
   "outputs": [],
   "source": []
  }
 ],
 "metadata": {
  "kernelspec": {
   "display_name": "Python 3 (ipykernel)",
   "language": "python",
   "name": "python3"
  },
  "language_info": {
   "codemirror_mode": {
    "name": "ipython",
    "version": 3
   },
   "file_extension": ".py",
   "mimetype": "text/x-python",
   "name": "python",
   "nbconvert_exporter": "python",
   "pygments_lexer": "ipython3",
   "version": "3.9.16"
  }
 },
 "nbformat": 4,
 "nbformat_minor": 5
}
